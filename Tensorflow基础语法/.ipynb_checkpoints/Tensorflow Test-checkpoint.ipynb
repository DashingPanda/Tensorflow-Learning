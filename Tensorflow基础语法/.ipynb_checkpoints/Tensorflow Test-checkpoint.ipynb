{
 "cells": [
  {
   "cell_type": "code",
   "execution_count": 1,
   "metadata": {},
   "outputs": [],
   "source": [
    "import tensorflow as tf"
   ]
  },
  {
   "cell_type": "code",
   "execution_count": 2,
   "metadata": {},
   "outputs": [
    {
     "name": "stdout",
     "output_type": "stream",
     "text": [
      "42\n"
     ]
    }
   ],
   "source": [
    "a = tf.constant(32)\n",
    "b = tf.constant(10)\n",
    "c = tf.add(a, b)\n",
    "sess = tf.Session()\n",
    "print(sess.run(c))\n",
    "sess.close()"
   ]
  },
  {
   "cell_type": "markdown",
   "metadata": {},
   "source": [
    "上面这段代码看上去非常简单，从结果上来看是在计算一个数学表达式 <font color=Darkorange>32+10</font> 的值，却也完整展示了 <font color=Darkorange></font>tensorflow 运行的基本架构。\n",
    "\n",
    "首先，第一行 <font color=Darkorange>a = tf.constant(32)</font> 定义了一个常量 <font color=Darkorange>tensor</font> ，它的值为 <font color=Darkorange>32</font> ，第二行也是类似，在运行 <font color=Darkorange>tensorflow</font> 程序的时候，任何数据都必须转换成 <font color=Darkorange>tensor</font> 类型才能够进入这个系统，先牢记这一点，之后会对它进行优缺点分析。那么现在就有了两个常量 <font color=Darkorange>tensor</font>。\n",
    "\n",
    "但是仅仅定义了两个用于存储数据的 tensor 毫无用处，希望能够实现的是这两个数的加法运算。在以前学数学加减法的时候老师都会在黑板上做出这样的图：<img src='img/Tensorflow Test/%W`370@YYPV2}~7YBQ4G0UO.png'>\n",
    "\n",
    "这张图揭示了加法运算的过程，通过 <font color=Darkorange>+</font> 这个符号将两个数连接起来，并生成一个新的数。\n",
    "\n",
    "这正是 <font color=Darkorange>tensorflow</font> 致力于实现的目标，通过 <font color=Darkorange>tf.add()</font> 这个函数，将两个 <font color=Darkorange>tensor</font> 连接起来并生成一个新的 <font color=Darkorange>tensor</font> : <font color=Darkorange>c</font> 。实际上，定义在一个或者多个 <font color=Darkorange>tensor</font> 上的函数在 <font color=Darkorange>tensorflow</font> 中被封装成 <font color=Darkorange>operator</font> 的概念，还可以发现，加法只是一个关于两个数和一个操作的关系，对于输入的数据是 <font color=Darkorange>1, 2</font> 还是 <font color=Darkorange>32, 10</font> 完全不会有任何本质改变。因此，整个计算图以符号计算的定义方式，被封装成了 <font color=Darkorange>Graph</font> ，也就是图的概念。\n",
    "\n",
    "<img src='img/Tensorflow Test/P(YJ)00C%`[F}KQ[BF_ASNQ.png'>\n",
    "\n",
    "到这里，通过构建两个 <font color=Darkorange>tensor</font> 以及一个 <font color=Darkorange>operation</font> 完成了一个 <font color=Darkorange>Graph</font> 的创建。这些是运行 <font color=Darkorange>tensorflow</font> 程序的标准步骤，但还没有结束。运行一面这行代码："
   ]
  },
  {
   "cell_type": "code",
   "execution_count": 3,
   "metadata": {},
   "outputs": [
    {
     "name": "stdout",
     "output_type": "stream",
     "text": [
      "Tensor(\"Const:0\", shape=(), dtype=int32)\n",
      "Tensor(\"Const_1:0\", shape=(), dtype=int32)\n",
      "Tensor(\"Add:0\", shape=(), dtype=int32)\n"
     ]
    }
   ],
   "source": [
    "print(a)\n",
    "print(b)\n",
    "print(c)"
   ]
  },
  {
   "cell_type": "markdown",
   "metadata": {},
   "source": [
    "它并没有输出 <font color=Darkorange>32, 10, 42</font> ，因为就像刚才说的，在 <font color=Darkorange>tensorflow</font> 下，所有的 <font color=Darkorange>tensor</font> 都是一种符号，用来构建整个 <font color=Darkorange>Graph</font>的，它是什么值并不重要，所以就无法在构建图之后直接进行打印查看它的值了。\n",
    "\n",
    "如何才能正确打印这些值呢？事实上， <font color=Darkorange>tensorflow</font> 将构建图和执行图分成了两个独立的步骤，也就是要先构建一个完整的计算图，此时无法获取图的具体信息，但是随后可以进入图的执行过程，这样就可以获得图执行时每个 <font color=Darkorange>tensoor</font> 的具体值了。那怎样进入图的执行呢？\n",
    "\n",
    "## 开启 <font color=Darkorange>Session</font> （会话）！"
   ]
  },
  {
   "cell_type": "code",
   "execution_count": 4,
   "metadata": {},
   "outputs": [],
   "source": [
    "sess = tf.Session()"
   ]
  },
  {
   "cell_type": "markdown",
   "metadata": {},
   "source": [
    "简单的 <font color=Darkorange>sess = tf.Session()</font> 就可以搞定。开启会话后，就可以执行图中的各个 <font color=Darkorange>tensor</font> 了，用的正是 <font color=Darkorange>sess.run()</font> 这个语句。\n",
    "\n",
    "开启了会话，现在可以执行下面这些命令了："
   ]
  },
  {
   "cell_type": "code",
   "execution_count": 5,
   "metadata": {},
   "outputs": [
    {
     "name": "stdout",
     "output_type": "stream",
     "text": [
      "32\n",
      "[32, 10]\n",
      "[32, 10, 42]\n"
     ]
    }
   ],
   "source": [
    "print(sess.run(a))\n",
    "print(sess.run([a, b]))\n",
    "print(sess.run([a, b, c]))"
   ]
  },
  {
   "cell_type": "markdown",
   "metadata": {},
   "source": [
    "可以执行图的结果保存到正常的变量中， <font color=Darkorange>tensorflow</font> 称这个过程为 <font color=Darkorange>fetch</font> 。运行下面的命令，对 <font color=Darkorange>fetch</font> 进行一个初步的了解。"
   ]
  },
  {
   "cell_type": "code",
   "execution_count": 6,
   "metadata": {},
   "outputs": [
    {
     "name": "stdout",
     "output_type": "stream",
     "text": [
      "<class 'numpy.int32'>\n",
      "32\n",
      "<class 'list'>\n",
      "32 10 42\n"
     ]
    }
   ],
   "source": [
    "py_a = sess.run(a)\n",
    "print(type(py_a))\n",
    "print(py_a)\n",
    "py_r = sess.run([a, b, c])\n",
    "print(type(py_r))\n",
    "print(py_r[0], py_r[1], py_r[2])"
   ]
  },
  {
   "cell_type": "markdown",
   "metadata": {},
   "source": [
    "## <font color=Darkorange>Tensors</font>\n",
    "\n",
    "<font color=Darkorange>tensor</font> 可以有很多种类型。"
   ]
  },
  {
   "cell_type": "code",
   "execution_count": 7,
   "metadata": {},
   "outputs": [
    {
     "name": "stdout",
     "output_type": "stream",
     "text": [
      "b'Hello, Tensorflow!'\n",
      "True\n",
      "[1 2]\n",
      "[1. 2.]\n"
     ]
    }
   ],
   "source": [
    "hello = tf.constant('Hello, Tensorflow!')\n",
    "boolean = tf.constant(True)\n",
    "int_array = tf.constant([1, 2], dtype = tf.int32)\n",
    "float_array = tf.constant([1, 2], dtype = tf.float32)\n",
    "\n",
    "print(sess.run(hello))\n",
    "print(sess.run(boolean))\n",
    "print(sess.run(int_array))\n",
    "print(sess.run(float_array))"
   ]
  },
  {
   "cell_type": "markdown",
   "metadata": {},
   "source": [
    "## 练习1\n",
    "\n",
    "构造一个 <font color=Darkorange>tensor</font> ,使得输出一个 <font color=Darkorange>numpy</font> 矩阵[[1 0][0 1]]\n",
    "\n",
    "## 答案1"
   ]
  },
  {
   "cell_type": "code",
   "execution_count": 8,
   "metadata": {},
   "outputs": [
    {
     "name": "stdout",
     "output_type": "stream",
     "text": [
      "[[1 0]\n",
      " [0 1]]\n"
     ]
    }
   ],
   "source": [
    "mat = tf.constant([[1, 0], [0, 1]])\n",
    "print(sess.run(mat))"
   ]
  },
  {
   "cell_type": "markdown",
   "metadata": {},
   "source": [
    "<font color=Darkorange>tensor</font> 还可以有名字，在定义每个 <font color=Darkorange>tensor</font> 的时候添加参数 <font color=Darkorange>name</font> 的值就可以。这是一个可选参数，不过在后面有很大的意义。\n"
   ]
  },
  {
   "cell_type": "code",
   "execution_count": 9,
   "metadata": {},
   "outputs": [
    {
     "name": "stdout",
     "output_type": "stream",
     "text": [
      "tensor Hello:0: b'Hello'\n",
      "tensor world:0: b'World'\n"
     ]
    }
   ],
   "source": [
    "my_name_is_hello = tf.constant('Hello', name = 'Hello')\n",
    "my_name_is_world = tf.constant('World', name = 'world')\n",
    "\n",
    "print('tensor {}: {}'.format(my_name_is_hello.name, sess.run(my_name_is_hello)))\n",
    "print('tensor {}: {}'.format(my_name_is_world.name, sess.run(my_name_is_world)))"
   ]
  },
  {
   "cell_type": "markdown",
   "metadata": {},
   "source": [
    "## <font color=Darkorange>Operations</font>\n",
    "\n",
    "<font color=Darkorange>tensorflow</font> 原生支持很多的 <font color=Darkorange>operation</font> ,接下来将用 <font color=Darkorange>op</font> 来简称 <font color=Darkorange>operation</font> 。注意，<font color=Darkorange>op</font> 也可以有名字用来标识。"
   ]
  },
  {
   "cell_type": "code",
   "execution_count": 10,
   "metadata": {},
   "outputs": [
    {
     "name": "stdout",
     "output_type": "stream",
     "text": [
      "52\n",
      "22\n",
      "320\n",
      "3.2\n",
      "2\n"
     ]
    }
   ],
   "source": [
    "d = tf.add_n([a, b, b])\n",
    "e = tf.subtract(a, b)\n",
    "f = tf.multiply(a, b)\n",
    "g = tf.divide(a, b)\n",
    "h = tf.mod(a, b)\n",
    "\n",
    "print(sess.run(d))\n",
    "print(sess.run(e))\n",
    "print(sess.run(f))\n",
    "print(sess.run(g))\n",
    "print(sess.run(h))\n"
   ]
  },
  {
   "cell_type": "markdown",
   "metadata": {},
   "source": [
    "<font color=Darkorange>tf.cast()</font> 此函数是类型转换函数,参数: x：输入 dtype：转换目标类型"
   ]
  },
  {
   "cell_type": "code",
   "execution_count": 11,
   "metadata": {},
   "outputs": [
    {
     "name": "stdout",
     "output_type": "stream",
     "text": [
      "32.0\n",
      "0.5514267\n",
      "1.0317434\n",
      "-0.043819606\n"
     ]
    }
   ],
   "source": [
    "a_float = tf.cast(a, dtype = tf.float32)\n",
    "b_float = tf.cast(b, dtype = tf.float32)\n",
    "\n",
    "i = tf.sin(a_float)\n",
    "j = tf.exp(tf.divide(1.0, a_float))\n",
    "k = tf.add(i, tf.log(i))\n",
    "\n",
    "print(sess.run(a_float))\n",
    "print(sess.run(i))\n",
    "print(sess.run(j))\n",
    "print(sess.run(k))"
   ]
  },
  {
   "cell_type": "markdown",
   "metadata": {},
   "source": [
    "## 练习2\n",
    "\n",
    "构造一个 <font color=Darkorange>tensor</font> ， 它的值等于*sigmoid*(b)， <font color=Darkorange>sigmoid</font> 函数如下定义：\n",
    "\n",
    "<big><center>$\\sigma(x) = \\frac{1}{1 + e^{-x}}$ \n",
    "</center></big>\n",
    "    \n",
    "\n",
    "## 答案2"
   ]
  },
  {
   "cell_type": "code",
   "execution_count": 12,
   "metadata": {},
   "outputs": [
    {
     "name": "stdout",
     "output_type": "stream",
     "text": [
      "0.9999546\n"
     ]
    }
   ],
   "source": [
    "sigmoid = tf.divide(1.0, tf.add(1.0, tf.exp(-b_float)))\n",
    "print(sess.run(sigmoid))"
   ]
  },
  {
   "cell_type": "markdown",
   "metadata": {},
   "source": [
    "* 可以通过 <font color=Darkorange>reshape</font> 改变形状\n",
    "* <font color=Darkorange>tensorflow</font> 支持矩阵操作，<font color=Darkorange>broadcast</font> 机制"
   ]
  },
  {
   "cell_type": "code",
   "execution_count": 13,
   "metadata": {},
   "outputs": [
    {
     "name": "stdout",
     "output_type": "stream",
     "text": [
      "[[1 2]\n",
      " [3 4]]\n",
      "[[ 1  3  5]\n",
      " [ 7  9 11]]\n",
      "[[15 21 27]\n",
      " [31 45 59]]\n",
      "[[3 4]\n",
      " [9 8]]\n"
     ]
    }
   ],
   "source": [
    "mat_a = tf.constant([1, 2, 3, 4])\n",
    "mat_a = tf.reshape(mat_a, (2, 2))\n",
    "mat_b = tf.constant([1, 3, 5, 7, 9, 11])\n",
    "mat_b = tf.reshape(mat_b, (2, 3))\n",
    "vec_a = tf.constant([3, 2])\n",
    "\n",
    "mat_c = tf.matmul(mat_a, mat_b)\n",
    "mat_d = tf.multiply(mat_a, vec_a)\n",
    "\n",
    "print(sess.run(mat_a))\n",
    "print(sess.run(mat_b))\n",
    "print(sess.run(mat_c))\n",
    "print(sess.run(mat_d))\n"
   ]
  },
  {
   "cell_type": "markdown",
   "metadata": {},
   "source": [
    "## 关闭 <font color=Darkorange>Session</font>\n",
    "\n",
    "<font color=Darkorange>session</font> 可以打开就徐娅被关闭，用下面这行命令。"
   ]
  },
  {
   "cell_type": "code",
   "execution_count": 14,
   "metadata": {},
   "outputs": [],
   "source": [
    "sess.close()"
   ]
  },
  {
   "cell_type": "markdown",
   "metadata": {},
   "source": [
    "## Variables\n",
    "\n",
    "前面的这些是 <font color=Darkorange>tensorflow</font> 的一些常量 <font color=Darkorange>tensor</font> ，通常来说它们一旦被定义就无法更改。在训练机器学习模型的时候，最重要的一步便是更新参数，这些常量 <font color=Darkorange>tensor</font> 无法满足。\n",
    "\n",
    "那么就绪呀变量（<font color=Darkorange>variables</font>）。先看看变量如何定义。"
   ]
  },
  {
   "cell_type": "code",
   "execution_count": 15,
   "metadata": {},
   "outputs": [],
   "source": [
    "var_a = tf.Variable(0, dtype = tf.int32)\n",
    "var_b = tf.Variable([1, 2], dtype = tf.float32)\n",
    "var_w = tf.Variable(tf.zeros((1024, 10)))"
   ]
  },
  {
   "cell_type": "markdown",
   "metadata": {},
   "source": [
    "每个变量都有一个<font color=Darkorange>initializer</font> 的函数，规定这个变量的初始值是什么。因此，在执行图的过程中必须要**先初始化**变量后才能够使用。可以通过下面的这些方法进行初始化\n",
    "\n",
    "在此之前，先了解一下 <font color=Darkorange>tensorflow</font> 的交互式 <font color=Darkorange>session</font> ： <font color=Darkorange>**InteractiveSession()**</font> ，在处理 <font color=Darkorange>variable</font> 的时候，它比普通的 <font color=Darkorange>Session</font> 更为灵活一点。"
   ]
  },
  {
   "cell_type": "code",
   "execution_count": 16,
   "metadata": {},
   "outputs": [],
   "source": [
    "##开启交互式 ‘session’\n",
    "sess = tf.InteractiveSession()\n",
    "\n",
    "##一次性初始所有的变量\n",
    "init = tf.global_variables_initializer()\n",
    "##一般‘session’的方法\n",
    "sess.run(init)\n",
    "##‘InteractiveSession’的方法\n",
    "init.run()\n",
    "\n",
    "##初始化某些变量\n",
    "init_ab = tf.variables_initializer([var_a, var_b])\n",
    "init_ab.run()\n",
    "\n",
    "##初始化某个变量\n",
    "var_w.initializer.run()"
   ]
  },
  {
   "cell_type": "markdown",
   "metadata": {},
   "source": [
    "初始化完成后仍然不能打印值，需要用 <font color=Darkorange>session</font> 去 <font color=Darkorange>run</font> 这个 <font color=Darkorange>variable</font> ，或者是调用 <font color=Darkorange>InteractiveSession</font> 下面的 <font color=Darkorange>eval()</font> 函数，观察一下下面输出的不同。"
   ]
  },
  {
   "cell_type": "code",
   "execution_count": 17,
   "metadata": {},
   "outputs": [
    {
     "name": "stdout",
     "output_type": "stream",
     "text": [
      "<tf.Variable 'Variable_3:0' shape=() dtype=int32_ref>\n",
      "10\n",
      "10\n"
     ]
    }
   ],
   "source": [
    "W = tf.Variable(10)\n",
    "sess.run(W.initializer)\n",
    "print(W)\n",
    "print(sess.run(W))\n",
    "print(W.eval())"
   ]
  },
  {
   "cell_type": "markdown",
   "metadata": {},
   "source": [
    "<font color=Darkorange>**assign_add**</font> 和 <font color=Darkorange>**assign_sub**</font> 对应 <font color=Darkorange>i++</font> 和 <font color=Darkorange>i--</font> ，也是 <font color=Darkorange>variable</font> 的常用 <font color=Darkorange>op</font>"
   ]
  },
  {
   "cell_type": "code",
   "execution_count": 18,
   "metadata": {},
   "outputs": [
    {
     "name": "stdout",
     "output_type": "stream",
     "text": [
      "20\n",
      "30\n",
      "28\n",
      "28\n"
     ]
    }
   ],
   "source": [
    "W = tf.Variable(10)\n",
    "assign_add = W.assign_add(10)\n",
    "assign_sub = W.assign_sub(2)\n",
    "\n",
    "W.initializer.run()\n",
    "print(assign_add.eval())\n",
    "print(assign_add.eval())\n",
    "print(assign_sub.eval())\n",
    "print(W.eval())"
   ]
  },
  {
   "cell_type": "markdown",
   "metadata": {},
   "source": [
    "* name_scope 和 variable_scope\n",
    "\n",
    "可以给一些 tensor 添加一个名称域，这样所有的变量名称都有一个共同的前缀。\n",
    "可以通过 <font color=Darkorange>tf.name_scope</font> 或者 <font color=Darkorange>tf.variable_scope</font> 来实现。"
   ]
  },
  {
   "cell_type": "code",
   "execution_count": 19,
   "metadata": {},
   "outputs": [
    {
     "name": "stdout",
     "output_type": "stream",
     "text": [
      "name_scope/Variable:0\n",
      "name_scope/Variable_1:0\n",
      "var-scope/Variable:0\n",
      "var-scope/Variable_1:0\n"
     ]
    }
   ],
   "source": [
    "with tf.name_scope('name_scope'):\n",
    "    var_a = tf.Variable(0, dtype = tf.int32)\n",
    "    var_b = tf.Variable([1, 2], dtype = tf.float32)\n",
    "with tf.variable_scope('var-scope'):\n",
    "    var_c = tf.Variable(0, dtype = tf.int32)\n",
    "    var_d = tf.Variable([1, 2], dtype = tf.float32)\n",
    "print(var_a.name)\n",
    "print(var_b.name)\n",
    "print(var_c.name)\n",
    "print(var_d.name)"
   ]
  },
  {
   "cell_type": "markdown",
   "metadata": {},
   "source": [
    "##  Placeholders\n",
    "\n",
    "在前面介绍计算图的时候，注意到构建图的是hi偶可以脱离具体值进行定义它的整体结构，在运行的时候可以根据需要带入具体的数值。可是前面定义的常量 <font color=Darkorange>tensor</font> 以及变量 <font color=Darkorange>tensor</font> 都需要一个初始值。因此，为了更加契合图的构建过程， <font color=Darkorange>tensorflow</font> 引入了一个**占位符**（<font color=Darkorange>placeholder</font>）的概念。字如其面，它只是占着构建图的一个位置，没有具体数值，但必须要有具体的类型以及形状。来看看这个古怪的东西是如何定义的吧。"
   ]
  },
  {
   "cell_type": "code",
   "execution_count": 20,
   "metadata": {},
   "outputs": [],
   "source": [
    "##定义一个占位符\n",
    "##‘tf.placeholder(dtype, shape=None, name=None)’\n",
    "\n",
    "# 定义一个‘float32’型的占位符，它是一个长为3的向量\n",
    "a = tf.placeholder(tf.float32, shape=[3])\n",
    "\n",
    "# 定义一个‘bool’型的占位符，它是一个‘1X2’的矩阵\n",
    "b = tf.placeholder(tf.bool, shape=[1, 2])"
   ]
  },
  {
   "cell_type": "markdown",
   "metadata": {},
   "source": [
    "如果还像之前那样企图用 <font color=Darkorange>a.eval()</font> 的话，就会体会到 <font color=Darkorange>placeholder</font> 的特别之处，因为它真的没有任何值！实际上，在执行图的过程中，必须要用字典的方式给 <font color=Darkorange>placeholder</font> 喂入具体值，这个过程称为 <font color=Darkorange>**feed**</font>。\n",
    "\n",
    "表现在程序中，就是在获取一个占位符的值的时候，需要给 <font color=Darkorange>run()</font> 增加一个 <font color=Darkorange>feed_dict</font> 的参数，这个参数是一个 <font color=Darkorange>dict</font> ，它的 <font color=Darkorange>key</font> 是占位符的变量名，它的 <font color=Darkorange>val</font> 是需要喂入的具体值。当然，这个字典可以有多个 <font color=Darkorange>key</font> ，也就是说可以一次喂入多个占位符。"
   ]
  },
  {
   "cell_type": "code",
   "execution_count": 21,
   "metadata": {},
   "outputs": [
    {
     "name": "stdout",
     "output_type": "stream",
     "text": [
      "[1. 2. 3.]\n",
      "[array([4., 5., 6.], dtype=float32), array([[ True, False]])]\n"
     ]
    }
   ],
   "source": [
    "print(sess.run(a, feed_dict={a: [1, 2, 3]}))\n",
    "print(sess.run([a, b], feed_dict={a: [4, 5, 6], b: [[True, False]]}))"
   ]
  },
  {
   "cell_type": "markdown",
   "metadata": {},
   "source": [
    "占位符也是一个 <font color=Darkorange>tensor</font> ，因此它可以被 <font color=Darkorange>op</font> 作用，可以和其他 <font color=Darkorange>tensor</font> 混合在一起使用。这样，图的构建也就完整了。\n",
    "\n",
    "## 练习3\n",
    "\n",
    "构造一个数值占位符，喂入的元素是1，2，4，8，输出这个占位符的平方\n",
    "\n",
    "## 答案3"
   ]
  },
  {
   "cell_type": "code",
   "execution_count": 22,
   "metadata": {},
   "outputs": [
    {
     "name": "stdout",
     "output_type": "stream",
     "text": [
      "1.0\n",
      "4.0\n",
      "16.0\n",
      "64.0\n"
     ]
    }
   ],
   "source": [
    "a = tf.placeholder(tf.float32)\n",
    "square = tf.square(a)\n",
    "for i in [1, 2, 4, 8]:\n",
    "    print(square.eval(feed_dict={a: i}))"
   ]
  },
  {
   "cell_type": "markdown",
   "metadata": {},
   "source": [
    "## tf.Graph\n",
    "\n",
    "最后再来看一下 <font color=Darkorange>tensorflow</font> 里图的概念。前面说了，在执行图之前，需要将整个计算图都构建完成，那么如何才能获得这个完整的图呢？"
   ]
  },
  {
   "cell_type": "code",
   "execution_count": 23,
   "metadata": {},
   "outputs": [
    {
     "name": "stdout",
     "output_type": "stream",
     "text": [
      "<tensorflow.python.framework.ops.Graph object at 0x00000194FF37A240>\n"
     ]
    }
   ],
   "source": [
    "g = tf.get_default_graph()\n",
    "print(g)"
   ]
  },
  {
   "cell_type": "markdown",
   "metadata": {},
   "source": [
    "得到这个图之后，当然可以往前回溯之前创建过的图的每一个节点，通过 <font color=Darkorange>g.get_operations()</font> 就可以查到所有的节点。还可以通过 <font color=Darkorange>g.get_tensor_by_name()</font> 获得对应 <font color=Darkorange>name</font> 的 <font color=Darkorange>tensor</font>"
   ]
  },
  {
   "cell_type": "code",
   "execution_count": 24,
   "metadata": {},
   "outputs": [
    {
     "name": "stdout",
     "output_type": "stream",
     "text": [
      "Const\n",
      "Const_1\n",
      "Add\n",
      "Const_2\n",
      "Const_3\n",
      "Const_4\n",
      "Const_5\n",
      "Const_6\n",
      "Hello\n",
      "world\n",
      "AddN\n",
      "Sub\n",
      "Mul\n",
      "truediv/Cast\n",
      "truediv/Cast_1\n",
      "truediv\n",
      "FloorMod\n",
      "Cast\n",
      "Cast_1\n",
      "Sin\n",
      "truediv_1/x\n",
      "truediv_1\n",
      "Exp\n",
      "Log\n",
      "Add_1\n",
      "Neg\n",
      "Exp_1\n",
      "Add_2/x\n",
      "Add_2\n",
      "truediv_2/x\n",
      "truediv_2\n",
      "Const_7\n",
      "Reshape/shape\n",
      "Reshape\n",
      "Const_8\n",
      "Reshape_1/shape\n",
      "Reshape_1\n",
      "Const_9\n",
      "MatMul\n",
      "Mul_1\n",
      "Variable/initial_value\n",
      "Variable\n",
      "Variable/Assign\n",
      "Variable/read\n",
      "Variable_1/initial_value\n",
      "Variable_1\n",
      "Variable_1/Assign\n",
      "Variable_1/read\n",
      "zeros/shape_as_tensor\n",
      "zeros/Const\n",
      "zeros\n",
      "Variable_2\n",
      "Variable_2/Assign\n",
      "Variable_2/read\n",
      "init\n",
      "init_1\n",
      "Variable_3/initial_value\n",
      "Variable_3\n",
      "Variable_3/Assign\n",
      "Variable_3/read\n",
      "Variable_4/initial_value\n",
      "Variable_4\n",
      "Variable_4/Assign\n",
      "Variable_4/read\n",
      "AssignAdd/value\n",
      "AssignAdd\n",
      "AssignSub/value\n",
      "AssignSub\n",
      "name_scope/Variable/initial_value\n",
      "name_scope/Variable\n",
      "name_scope/Variable/Assign\n",
      "name_scope/Variable/read\n",
      "name_scope/Variable_1/initial_value\n",
      "name_scope/Variable_1\n",
      "name_scope/Variable_1/Assign\n",
      "name_scope/Variable_1/read\n",
      "var-scope/Variable/initial_value\n",
      "var-scope/Variable\n",
      "var-scope/Variable/Assign\n",
      "var-scope/Variable/read\n",
      "var-scope/Variable_1/initial_value\n",
      "var-scope/Variable_1\n",
      "var-scope/Variable_1/Assign\n",
      "var-scope/Variable_1/read\n",
      "Placeholder\n",
      "Placeholder_1\n",
      "Placeholder_2\n",
      "Square\n"
     ]
    }
   ],
   "source": [
    "for op in g.get_operations():\n",
    "    print(op.name)"
   ]
  },
  {
   "cell_type": "code",
   "execution_count": 25,
   "metadata": {},
   "outputs": [
    {
     "name": "stdout",
     "output_type": "stream",
     "text": [
      "b'Hello'\n"
     ]
    }
   ],
   "source": [
    "what_is_this = g.get_tensor_by_name('Hello:0')\n",
    "print(what_is_this.eval())"
   ]
  },
  {
   "cell_type": "code",
   "execution_count": 26,
   "metadata": {},
   "outputs": [],
   "source": [
    "sess.close()"
   ]
  },
  {
   "cell_type": "markdown",
   "metadata": {},
   "source": [
    "## 生成新图\n",
    "\n",
    "上面介绍了 <font color=Darkorange>tensorflow</font> 运行程序时的默认图，那么可以构造有别于默认图的新图吗？当然可以的，通过 <font color=Darkorange>**g1=tf.Graph()**</font> 就可以办到。但这并没有结束，需要将这个图设置为"
   ]
  },
  {
   "cell_type": "code",
   "execution_count": 27,
   "metadata": {},
   "outputs": [
    {
     "name": "stdout",
     "output_type": "stream",
     "text": [
      "g1:  <tensorflow.python.framework.ops.Graph object at 0x00000194FF44CD68>\n",
      "default_graph:  <tensorflow.python.framework.ops.Graph object at 0x00000194FF37A240>\n",
      "default_graph:  <tensorflow.python.framework.ops.Graph object at 0x00000194FF37A240>\n",
      "a.graph:  <tensorflow.python.framework.ops.Graph object at 0x00000194FF37A240>\n",
      "a1.graph:  <tensorflow.python.framework.ops.Graph object at 0x00000194FF37A240>\n",
      "a2.graph:  <tensorflow.python.framework.ops.Graph object at 0x00000194FF44CD68>\n"
     ]
    }
   ],
   "source": [
    "##定义一个新图，注意它和之气那的g有什么不同\n",
    "g1 = tf.Graph()\n",
    "\n",
    "print('g1: ', g1)\n",
    "\n",
    "##将这个新图作为默认图，注意前后默认图有没有不同\n",
    "print('default_graph: ', tf.get_default_graph())\n",
    "g1.as_default()\n",
    "print('default_graph: ', tf.get_default_graph())\n",
    "\n",
    "##在这个新图后面定义新的‘tensor’\n",
    "a1 = tf.constant(32, name='a1')\n",
    "\n",
    "with g1.as_default():\n",
    "    a2 = tf.constant(32, name='a2')\n",
    "    \n",
    "##查看‘tensor’从属的图\n",
    "print('a.graph: ', a.graph)\n",
    "print('a1.graph: ', a1.graph)\n",
    "print('a2.graph: ', a2.graph)"
   ]
  },
  {
   "cell_type": "markdown",
   "metadata": {},
   "source": [
    "## 图的可视化\n",
    "\n",
    "现在迫不及待地要介绍一下 <font color=Darkorange>tensorflow</font> 的一款神器 <font color=Darkorange>**tensorboard**</font> ！在安装 <font color=Darkorange>tensorflow</font> 的过程中，它就已经被自动安装了，非常方便。\n",
    "\n",
    "在它的帮助下，可以将刚才构造的图可视化，让它变得更加清晰直观。\n",
    "* 首先需要将想要可视化的图导入到 <font color=Darkorange>tensorboard</font> 可以解析的文件中"
   ]
  },
  {
   "cell_type": "code",
   "execution_count": 28,
   "metadata": {},
   "outputs": [],
   "source": [
    "with tf.Session() as sess:\n",
    "    graph_writer = tf.summary.FileWriter('.', sess.graph)"
   ]
  },
  {
   "cell_type": "markdown",
   "metadata": {},
   "source": [
    "这个时候在当前目录中就会多一个 <font color=Darkorange>events.*</font> 的文件，这个就是需要的文件。\n",
    "* 然后在当前目录打开终端（一般来说是右键，点击 <font color=Darkorange>open in New Terminal</font> 或者是 <font color=Darkorange>在终端中打开</font>，键入以下命令：  \n",
    "  tensorboard --logdir=.\n",
    "* 然后就会有一个这样的输出  \n",
    "  TensorBoard 0.1.8 at http://USERNAME:6006 (Press CTRL+C to quit)\n",
    "* 然后打开浏览器，输入 <font color=Darkorange>at</font> 后面的链接 <font color=Darkorange>httlp：//USERNAME:6006</font> ，进入。就会发现这样的界面\n",
    "\n"
   ]
  },
  {
   "cell_type": "code",
   "execution_count": null,
   "metadata": {},
   "outputs": [],
   "source": [
    " \n",
    "\n",
    "\n",
    "\n"
   ]
  }
 ],
 "metadata": {
  "kernelspec": {
   "display_name": "Python 3",
   "language": "python",
   "name": "python3"
  },
  "language_info": {
   "codemirror_mode": {
    "name": "ipython",
    "version": 3
   },
   "file_extension": ".py",
   "mimetype": "text/x-python",
   "name": "python",
   "nbconvert_exporter": "python",
   "pygments_lexer": "ipython3",
   "version": "3.6.8"
  }
 },
 "nbformat": 4,
 "nbformat_minor": 2
}
