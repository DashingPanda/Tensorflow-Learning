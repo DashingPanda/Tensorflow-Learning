{
 "cells": [
  {
   "cell_type": "markdown",
   "metadata": {},
   "source": [
    "# tensorflow 高层 `API`\n",
    "\n",
    "---\n",
    "\n",
    "分别使用 `keras` 和 `slim` 这两个非常流行的高层 `api` 尝试构造 `AlexNet`    \n",
    "    \n",
    "      \n",
    "      \n",
    "\n",
    "# Keras\n",
    "---"
   ]
  },
  {
   "cell_type": "code",
   "execution_count": 1,
   "metadata": {},
   "outputs": [
    {
     "name": "stderr",
     "output_type": "stream",
     "text": [
      "Using TensorFlow backend.\n"
     ]
    }
   ],
   "source": [
    "import keras"
   ]
  },
  {
   "cell_type": "markdown",
   "metadata": {},
   "source": [
    "`Keras` 自带了 `cifar10` 数据集，并且自动分成了训练集和测试集"
   ]
  },
  {
   "cell_type": "code",
   "execution_count": 2,
   "metadata": {},
   "outputs": [],
   "source": [
    "from keras.datasets import cifar10\n",
    "(x_train, y_train), (x_test, y_test) = keras.datasets.cifar10.load_data()"
   ]
  },
  {
   "cell_type": "code",
   "execution_count": 3,
   "metadata": {},
   "outputs": [],
   "source": [
    "x_train = x_train.astype('float')\n",
    "x_test = x_test.astype('float')\n",
    "\n",
    "x_train /= 255\n",
    "x_test /= 255"
   ]
  },
  {
   "cell_type": "code",
   "execution_count": 4,
   "metadata": {},
   "outputs": [
    {
     "name": "stdout",
     "output_type": "stream",
     "text": [
      "(<class 'numpy.ndarray'>, <class 'numpy.ndarray'>)\n",
      "((50000, 32, 32, 3), (50000, 1))\n",
      "((10000, 32, 32, 3), (10000, 1))\n"
     ]
    }
   ],
   "source": [
    "print((type(x_train), type(y_train)))\n",
    "print((x_train.shape, y_train.shape))\n",
    "print((x_test.shape, y_test.shape))"
   ]
  },
  {
   "cell_type": "markdown",
   "metadata": {},
   "source": [
    "`Keras` 的数据不需要转化成 `tensorflow` 下的 `tensor` ，可以直接作为网络的输入层\n",
    "\n",
    "# 构建 `Keras` 模型\n",
    "\n",
    "## `Keras` 网络层\n",
    "\n",
    "`keras` 为了方便用户搭建神经网络模型，把很多常用的层，比如 `Conv2d`， `MaxPooling2d` ，封装起来，是的输入更加简单明了。\n",
    "\n",
    "## `Keras` 模型\n",
    "\n",
    "`Keras` 提供 `Sequential` 和 `Model` 两种模型的构建方法，使用它们搭建模型就像搭积木一样非常直观简单。\n",
    "\n",
    "---\n",
    "\n",
    "下面就来体验一下\n",
    "* 首先定义一个 `Sequential` 模型"
   ]
  },
  {
   "cell_type": "code",
   "execution_count": 5,
   "metadata": {},
   "outputs": [],
   "source": [
    "from keras.models import Sequential"
   ]
  },
  {
   "cell_type": "code",
   "execution_count": 6,
   "metadata": {},
   "outputs": [],
   "source": [
    "model = Sequential()"
   ]
  },
  {
   "cell_type": "markdown",
   "metadata": {},
   "source": [
    "从 `keras` 中导入需要的模型"
   ]
  },
  {
   "cell_type": "code",
   "execution_count": 7,
   "metadata": {},
   "outputs": [],
   "source": [
    "from keras.layers import Dense, Conv2D, MaxPooling2D, Flatten\n",
    "from keras.layers import Activation"
   ]
  },
  {
   "cell_type": "code",
   "execution_count": 8,
   "metadata": {},
   "outputs": [
    {
     "name": "stdout",
     "output_type": "stream",
     "text": [
      "WARNING:tensorflow:From D:\\WORKING\\Anaconda3\\envs\\Tensorflow1\\lib\\site-packages\\tensorflow_core\\python\\ops\\resource_variable_ops.py:1630: calling BaseResourceVariable.__init__ (from tensorflow.python.ops.resource_variable_ops) with constraint is deprecated and will be removed in a future version.\n",
      "Instructions for updating:\n",
      "If using Keras pass *_constraint arguments to layers.\n",
      "WARNING:tensorflow:From D:\\WORKING\\Anaconda3\\envs\\Tensorflow1\\lib\\site-packages\\keras\\backend\\tensorflow_backend.py:4070: The name tf.nn.max_pool is deprecated. Please use tf.nn.max_pool2d instead.\n",
      "\n"
     ]
    }
   ],
   "source": [
    "# 然后添加第一卷积层，卷积核为 `5 X 5 X 64`，步长为 `1 X 1`，激活函数是 `relu`\n",
    "# 注意，添加第一层的时候需要著名输入的形状是什么\n",
    "\n",
    "model.add(Conv2D(64, (5, 5), input_shape = (32, 32, 3)))\n",
    "model.add(Activation('relu'))\n",
    "\n",
    "# 继续添加第二池化层，核为 `3 X 3`, 步长为 `2 X 2`\n",
    "model.add(MaxPooling2D([3, 3], 2))\n",
    "\n",
    "# 第三卷积层 `5 X 5 X 64` ，步长为 `1 X 1` ，激活函数是 `relu`\n",
    "model.add(Conv2D(64, (5, 5), activation = 'relu'))\n",
    "\n",
    "# 第四池化层，核大小是 `3 X 3`，步长为 `2 X 2`\n",
    "model.add(MaxPooling2D([3, 3], 2))\n",
    "\n",
    "# 将矩阵摊平成向量\n",
    "model.add(Flatten())\n",
    "\n",
    "# 第五全连接层，输出为 384 维向量, 激活函数是 `relu`\n",
    "model.add(Dense(384, activation = 'relu'))\n",
    "\n",
    "# 第六全连接层，输出为 192 维向量，激活函数是 `relu`\n",
    "model.add(Dense(192, activation = 'relu'))\n",
    "\n",
    "# 第七全连接层，是模型的最后一层，将输出结果，输出为 10 维向量。其中，激活函数是 `sofrmax`\n",
    "model.add(Dense(10, activation = 'softmax'))"
   ]
  },
  {
   "cell_type": "markdown",
   "metadata": {},
   "source": [
    "现在已经完成了模型的的搭建   \n",
    "`keras` 还提供了很多方法帮助我们理解模型\n",
    "* `model.summary()`\n",
    "* `plot_model`"
   ]
  },
  {
   "cell_type": "code",
   "execution_count": 9,
   "metadata": {},
   "outputs": [
    {
     "name": "stdout",
     "output_type": "stream",
     "text": [
      "Model: \"sequential_1\"\n",
      "_________________________________________________________________\n",
      "Layer (type)                 Output Shape              Param #   \n",
      "=================================================================\n",
      "conv2d_1 (Conv2D)            (None, 28, 28, 64)        4864      \n",
      "_________________________________________________________________\n",
      "activation_1 (Activation)    (None, 28, 28, 64)        0         \n",
      "_________________________________________________________________\n",
      "max_pooling2d_1 (MaxPooling2 (None, 13, 13, 64)        0         \n",
      "_________________________________________________________________\n",
      "conv2d_2 (Conv2D)            (None, 9, 9, 64)          102464    \n",
      "_________________________________________________________________\n",
      "max_pooling2d_2 (MaxPooling2 (None, 4, 4, 64)          0         \n",
      "_________________________________________________________________\n",
      "flatten_1 (Flatten)          (None, 1024)              0         \n",
      "_________________________________________________________________\n",
      "dense_1 (Dense)              (None, 384)               393600    \n",
      "_________________________________________________________________\n",
      "dense_2 (Dense)              (None, 192)               73920     \n",
      "_________________________________________________________________\n",
      "dense_3 (Dense)              (None, 10)                1930      \n",
      "=================================================================\n",
      "Total params: 576,778\n",
      "Trainable params: 576,778\n",
      "Non-trainable params: 0\n",
      "_________________________________________________________________\n"
     ]
    }
   ],
   "source": [
    "model.summary()"
   ]
  },
  {
   "cell_type": "code",
   "execution_count": 10,
   "metadata": {},
   "outputs": [
    {
     "data": {
      "image/png": "[encoded data removed]",
      "text/plain": [
       "<IPython.core.display.Image object>"
      ]
     },
     "execution_count": 10,
     "metadata": {},
     "output_type": "execute_result"
    }
   ],
   "source": [
    "#这两句不加的话系统找不到 graphviz 的执行文件路径\n",
    "import os     \n",
    "os.environ[\"PATH\"] += os.pathsep + 'D:/WORKING/graphviz-2.38/release/bin'\n",
    "\n",
    "from keras.utils.vis_utils import plot_model\n",
    "plot_model(model, to_file = 'keras_alexnet.png')"
   ]
  },
  {
   "cell_type": "code",
   "execution_count": 11,
   "metadata": {},
   "outputs": [
    {
     "ename": "NameError",
     "evalue": "name 'model_to_do' is not defined",
     "output_type": "error",
     "traceback": [
      "\u001b[1;31m---------------------------------------------------------------------------\u001b[0m",
      "\u001b[1;31mNameError\u001b[0m                                 Traceback (most recent call last)",
      "\u001b[1;32m<ipython-input-11-88a69208c1d8>\u001b[0m in \u001b[0;36m<module>\u001b[1;34m\u001b[0m\n\u001b[0;32m      2\u001b[0m \u001b[1;32mfrom\u001b[0m \u001b[0mkeras\u001b[0m\u001b[1;33m.\u001b[0m\u001b[0mutils\u001b[0m\u001b[1;33m.\u001b[0m\u001b[0mvis_utils\u001b[0m \u001b[1;32mimport\u001b[0m \u001b[0mmodel_to_dot\u001b[0m\u001b[1;33m\u001b[0m\u001b[1;33m\u001b[0m\u001b[0m\n\u001b[0;32m      3\u001b[0m \u001b[1;33m\u001b[0m\u001b[0m\n\u001b[1;32m----> 4\u001b[1;33m \u001b[0mSVG\u001b[0m\u001b[1;33m(\u001b[0m\u001b[0mmodel_to_do\u001b[0m\u001b[1;33m(\u001b[0m\u001b[0mmodel\u001b[0m\u001b[1;33m)\u001b[0m\u001b[1;33m.\u001b[0m\u001b[0mcreate\u001b[0m\u001b[1;33m(\u001b[0m\u001b[0mprog\u001b[0m \u001b[1;33m=\u001b[0m \u001b[1;34m'dot'\u001b[0m\u001b[1;33m,\u001b[0m \u001b[0mformat\u001b[0m \u001b[1;33m=\u001b[0m \u001b[1;34m'svg'\u001b[0m\u001b[1;33m)\u001b[0m\u001b[1;33m)\u001b[0m\u001b[1;33m\u001b[0m\u001b[1;33m\u001b[0m\u001b[0m\n\u001b[0m",
      "\u001b[1;31mNameError\u001b[0m: name 'model_to_do' is not defined"
     ]
    }
   ],
   "source": [
    "from IPython.display import SVG\n",
    "from keras.utils.vis_utils import model_to_dot\n",
    "\n",
    "SVG(model_to_do(model).create(prog = 'dot', format = 'svg'))"
   ]
  },
  {
   "cell_type": "markdown",
   "metadata": {},
   "source": [
    "# 模型编译\n",
    "\n",
    "模型构建完成之后，需要用 `compile` 来配置训练过程\n",
    "`model.compile()` 接受三个参数：\n",
    "* optimizer：优化方法，有 `sgd` ， `rmsprop`， `adgrad` 等这样的字符串，也可以是 `keras.Optimizers` 对象\n",
    "* loss：损失函数，有 `categorical_crossentropy` ，`mes` 等这样的字符串，也可以是函数形式\n",
    "* metrics：评价函数，如 `['accuracy']` ，也支持自定义"
   ]
  },
  {
   "cell_type": "code",
   "execution_count": null,
   "metadata": {},
   "outputs": [],
   "source": [
    "from keras import optimizers"
   ]
  },
  {
   "cell_type": "code",
   "execution_count": null,
   "metadata": {},
   "outputs": [],
   "source": [
    "sgd = optimizers.SGD(lr = 0.01, momentum = 0.9)\n",
    "model.compile(optimizer = sgd, loss = \"categorical_crossentropy\", metrics = ['accuracy'])"
   ]
  },
  {
   "cell_type": "markdown",
   "metadata": {},
   "source": [
    "将标签转化成 `onehot` 形式"
   ]
  },
  {
   "cell_type": "code",
   "execution_count": null,
   "metadata": {},
   "outputs": [],
   "source": [
    "onehot_train = keras.utils.to_categorical(y_train, num_classes = 10)\n",
    "\n",
    "sgd = optimizers.SGD(lr = 0.01, momentum = 0.9)\n",
    "model.compile(optimizer = sgd, loss = \"categorical_crossentropy\", metrics = ['accuracy'])"
   ]
  },
  {
   "cell_type": "markdown",
   "metadata": {},
   "source": [
    "# 训练\n",
    "\n",
    "`keras` 训练模型非常简单，用一个 `fit` 函数就可以搞定"
   ]
  },
  {
   "cell_type": "code",
   "execution_count": null,
   "metadata": {},
   "outputs": [],
   "source": [
    "model.fit(x = x_train, y = onehot_train, epochs = 25, batch_size = 64)"
   ]
  },
  {
   "cell_type": "markdown",
   "metadata": {},
   "source": [
    "# 评价\n",
    "\n",
    "`keras` 的评价也非常简单，用一个 `evaluate` 就可以"
   ]
  },
  {
   "cell_type": "markdown",
   "metadata": {},
   "source": [
    "onehot_test = keras.utils.to_categorical(y_test)"
   ]
  },
  {
   "cell_type": "code",
   "execution_count": null,
   "metadata": {},
   "outputs": [],
   "source": [
    "model.evaluate(x_train, onehot_train, batch_size = 128)"
   ]
  },
  {
   "cell_type": "code",
   "execution_count": null,
   "metadata": {},
   "outputs": [],
   "source": [
    "model.evaluate(x_train, onehot_train, batch_size = 128)"
   ]
  },
  {
   "cell_type": "markdown",
   "metadata": {},
   "source": [
    "可以看到， `keras` 无论是在构建模型，构建训练，还是在评价模型上都比原生的 `tensorflow` 都要简洁易用\n",
    "\n",
    "\n",
    "# TF-Slim\n",
    "---\n",
    "`TF-slim` 是一个可以在 `tensorflow` 中实现构建模型，评估模型的轻量级代码库。可以和原生的 `tensorflow` 或者其他例如 `tf.contrib.learn` 这样的框架自由组合\n",
    "\n",
    "# import tensorflow.contrib.slim as slim"
   ]
  },
  {
   "cell_type": "code",
   "execution_count": null,
   "metadata": {},
   "outputs": [],
   "source": [
    "import tensorflow.contrib.slim as slim"
   ]
  },
  {
   "cell_type": "markdown",
   "metadata": {},
   "source": [
    "来看看如何用 `slim` 来简化模型的定义，训练和评估。首先从本地中导入 `cifar10` 数据集"
   ]
  },
  {
   "cell_type": "code",
   "execution_count": null,
   "metadata": {},
   "outputs": [],
   "source": [
    "# import tensorflow as tf\n",
    "# from utils import cifar10_input"
   ]
  },
  {
   "cell_type": "code",
   "execution_count": null,
   "metadata": {},
   "outputs": [],
   "source": [
    "# 定义一个批次有 64 个样本\n",
    "batch_size = 64\n",
    "\n",
    "train_imgs, train_labels, val_imgs, val_labels = cifar10_iput.load_data(data_dir = '经典卷积神经网络/cifar10_data')"
   ]
  },
  {
   "cell_type": "markdown",
   "metadata": {},
   "source": [
    "# slim构建模型\n",
    "\n",
    "## `slim` 中的高级层\n",
    "\n",
    "`slim` 也对 `tensorflow` 的底层 `API` 进行了层的封装， 像 `keras` 一样，它也具有   \n",
    "* 定义要对哪些函数使用默认参数\n",
    "* 定义要使用的默认参数的具体值"
   ]
  },
  {
   "cell_type": "code",
   "execution_count": null,
   "metadata": {},
   "outputs": [],
   "source": [
    "# 定义alexnet模型\n",
    "def alexnet(input, reuse = None):\n",
    "    with tf.variable_"
   ]
  },
  {
   "cell_type": "code",
   "execution_count": null,
   "metadata": {},
   "outputs": [],
   "source": [
    "\n",
    "\n",
    "\n",
    "\n",
    "\n",
    "\n",
    "\n",
    "\n",
    "\n",
    "\n",
    "\n",
    "\n",
    "\n",
    "\n",
    "\n",
    "\n",
    "\n",
    "\n",
    "\n",
    "\n"
   ]
  }
 ],
 "metadata": {
  "kernelspec": {
   "display_name": "Tensorflow1",
   "language": "python",
   "name": "tensorflow1"
  },
  "language_info": {
   "codemirror_mode": {
    "name": "ipython",
    "version": 3
   },
   "file_extension": ".py",
   "mimetype": "text/x-python",
   "name": "python",
   "nbconvert_exporter": "python",
   "pygments_lexer": "ipython3",
   "version": "3.6.10"
  }
 },
 "nbformat": 4,
 "nbformat_minor": 4
}
